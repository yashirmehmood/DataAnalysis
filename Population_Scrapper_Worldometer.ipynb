{
  "nbformat": 4,
  "nbformat_minor": 0,
  "metadata": {
    "kernelspec": {
      "display_name": "Python 3",
      "language": "python",
      "name": "python3"
    },
    "language_info": {
      "codemirror_mode": {
        "name": "ipython",
        "version": 3
      },
      "file_extension": ".py",
      "mimetype": "text/x-python",
      "name": "python",
      "nbconvert_exporter": "python",
      "pygments_lexer": "ipython3",
      "version": "3.7.6"
    },
    "colab": {
      "name": "Population_Scrapper_Worldometer.ipynb",
      "provenance": [],
      "collapsed_sections": [],
      "include_colab_link": true
    }
  },
  "cells": [
    {
      "cell_type": "markdown",
      "metadata": {
        "id": "view-in-github",
        "colab_type": "text"
      },
      "source": [
        "<a href=\"https://colab.research.google.com/github/yashirmehmood/DataAnalysis/blob/main/Population_Scrapper_Worldometer.ipynb\" target=\"_parent\"><img src=\"https://colab.research.google.com/assets/colab-badge.svg\" alt=\"Open In Colab\"/></a>"
      ]
    },
    {
      "cell_type": "code",
      "metadata": {
        "colab": {
          "base_uri": "https://localhost:8080/"
        },
        "id": "-biS3W_DkFT2",
        "outputId": "eaf1dbcb-c30f-44b4-bf1f-34e9f8a3fd38"
      },
      "source": [
        "#1.Importing required liberaries\n",
        "#2.Setting Up the URL\n",
        "#3.Getting country name as input\n",
        "#4.Finalizing the URL\n",
        "\n",
        "from bs4 import BeautifulSoup\n",
        "import requests\n",
        "import pandas as pd\n",
        "\n",
        "\n",
        "url = 'https://www.worldometers.info/world-population/-population/'\n",
        "# print(url.find('n/'))\n",
        "url1 = url[:47]\n",
        "url2 = url[47:]\n",
        "\n",
        "\n",
        "country_name = input('Enter The Country Name: ')\n",
        "\n",
        "\n",
        "final_url = url1 + country_name + url2\n",
        "print(final_url)"
      ],
      "execution_count": null,
      "outputs": [
        {
          "output_type": "stream",
          "text": [
            "Enter The Country Name: india\n",
            "https://www.worldometers.info/world-population/india-population/\n"
          ],
          "name": "stdout"
        }
      ]
    },
    {
      "cell_type": "code",
      "metadata": {
        "id": "oYDbuBAokFT2"
      },
      "source": [
        "## Making requests for the link and getting response.\n",
        "\n",
        "req = requests.get(final_url)\n",
        "html_doc = req.text\n",
        "soup = BeautifulSoup(html_doc, 'html.parser')\n",
        "\n",
        "\n",
        "#understand the web structure and fetch the data accordingly\n",
        "req_table = soup.find_all('div', class_=\"table-responsive\")\n",
        "table_thead = req_table[0].thead\n",
        "\n",
        "# print(type(table_thead))\n",
        "\n",
        "\n",
        "#here we can fetch the table headings as my dataframe columns\n",
        "column_list = []\n",
        "th_tags = table_thead.find_all('th')\n",
        "for th in th_tags:\n",
        "    th = th.text\n",
        "    column_list.append(th)\n"
      ],
      "execution_count": null,
      "outputs": []
    },
    {
      "cell_type": "code",
      "metadata": {
        "colab": {
          "base_uri": "https://localhost:8080/"
        },
        "id": "FuwVC_EXkFT2",
        "outputId": "70190bd7-c4a5-476f-ea8f-f57a6bd9be29"
      },
      "source": [
        "### Here i'm fetching data from each table row data\n",
        "#setting our data according to our need\n",
        "\n",
        "table_body = req_table[0].tbody\n",
        "body_tr = table_body.find_all('tr')\n",
        "\n",
        "# print(body_tr[0].text)\n",
        "string_list = []\n",
        "for b_tr in body_tr:\n",
        "    #cleaing my string values\n",
        "    mystr = b_tr.text         \n",
        "    mystr = mystr.replace(',','')           #removing , in string digits\n",
        "    mystr = mystr.replace('%','')           #remving % sign from values\n",
        "    mystr = mystr.replace('  ', ' ')        #removing double spaces created by removel of %\n",
        "    mystr = mystr.strip()                   #removing any spaces in start or at end\n",
        "    newstr = mystr.split(\" \")               #now splitting whole string on the basis of space\n",
        "    string_list.append(newstr)\n",
        "print(string_list)\n"
      ],
      "execution_count": null,
      "outputs": [
        {
          "output_type": "stream",
          "text": [
            "[['2020', '1380004385', '0.99', '13586631', '-532687', '28.4', '2.24', '464', '35.0', '483098640', '17.70', '7794798739', '2'], ['2019', '1366417754', '1.02', '13775474', '-532687', '27.1', '2.36', '460', '34.5', '471828295', '17.71', '7713468100', '2'], ['2018', '1352642280', '1.04', '13965495', '-532687', '27.1', '2.36', '455', '34.1', '460779764', '17.73', '7631091040', '2'], ['2017', '1338676785', '1.07', '14159536', '-532687', '27.1', '2.36', '450', '33.6', '449963381', '17.74', '7547858925', '2'], ['2016', '1324517249', '1.10', '14364846', '-532687', '27.1', '2.36', '445', '33.2', '439391699', '17.75', '7464022049', '2'], ['2015', '1310152403', '1.20', '15174247', '-470015', '26.8', '2.40', '441', '32.7', '429069459', '17.75', '7379797139', '2'], ['2010', '1234281170', '1.47', '17334249', '-531169', '25.1', '2.80', '415', '30.8', '380744554', '17.74', '6956823603', '2'], ['2005', '1147609927', '1.67', '18206876', '-377797', '23.8', '3.14', '386', '29.1', '334479406', '17.54', '6541907027', '2'], ['2000', '1056575549', '1.85', '18530592-136514', '22.7', '3.48', '355', '27.6', '291350282', '17.20', '6143493823', '2'], ['1995', '963922588', '1.99', '18128958', '-110590', '21.8', '3.83', '324', '26.5', '255558824', '16.78', '5744212979', '2'], ['1990', '873277798', '2.17', '17783558', '9030', '21.1', '4.27', '294', '25.5', '222296728', '16.39', '5327231061', '2'], ['1985', '784360008', '2.33', '17081433', '115942', '20.6', '4.68', '264', '24.3', '190321782', '16.10', '4870921740', '2'], ['1980', '698952844', '2.32', '15169989', '222247', '20.2', '4.97', '235', '23.0', '160941941', '15.68', '4458003514', '2'], ['1975', '623102897', '2.33', '13582621', '421208', '19.7', '5.41', '210', '21.3', '132533810', '15.27', '4079480606', '2'], ['1970', '555189792', '2.15', '11213294', '-68569', '19.3', '5.72', '187', '19.7', '109388950', '15.00', '3700437046', '2'], ['1965', '499123324', '2.07', '9715129', '-17078', '19.6', '5.89', '168', '18.7', '93493844', '14.95', '3339583597', '2'], ['1960', '450547679', '1.91', '8133417', '-30805', '20.2', '5.90', '152', '17.9', '80565723', '14.85', '3034949748', '2'], ['1955', '409880595', '1.72', '6711079', '-21140', '20.7', '5.90', '138', '17.6', '71958495', '14.78', '2773019936', '2']]\n"
          ],
          "name": "stdout"
        }
      ]
    },
    {
      "cell_type": "code",
      "metadata": {
        "colab": {
          "base_uri": "https://localhost:8080/"
        },
        "id": "YT2-l8fPkFT2",
        "outputId": "723255ec-dab5-4091-e55f-a4a6646956e9"
      },
      "source": [
        "##!!!!!!!!!!!!!!!! WARNING: Run this cell only once. Otherwise you'll lose more data. !!!!!!!!! ########\n",
        "\n",
        "#To remove problematic row of data. Data of year 2000 creates problem. So we are removing that year's data from our data. \n",
        "# year 2000 data comes at index 8.\n",
        "\n",
        "temp_list = string_list.pop(8)\n",
        "print(string_list)"
      ],
      "execution_count": null,
      "outputs": [
        {
          "output_type": "stream",
          "text": [
            "[['2020', '1380004385', '0.99', '13586631', '-532687', '28.4', '2.24', '464', '35.0', '483098640', '17.70', '7794798739', '2'], ['2019', '1366417754', '1.02', '13775474', '-532687', '27.1', '2.36', '460', '34.5', '471828295', '17.71', '7713468100', '2'], ['2018', '1352642280', '1.04', '13965495', '-532687', '27.1', '2.36', '455', '34.1', '460779764', '17.73', '7631091040', '2'], ['2017', '1338676785', '1.07', '14159536', '-532687', '27.1', '2.36', '450', '33.6', '449963381', '17.74', '7547858925', '2'], ['2016', '1324517249', '1.10', '14364846', '-532687', '27.1', '2.36', '445', '33.2', '439391699', '17.75', '7464022049', '2'], ['2015', '1310152403', '1.20', '15174247', '-470015', '26.8', '2.40', '441', '32.7', '429069459', '17.75', '7379797139', '2'], ['2010', '1234281170', '1.47', '17334249', '-531169', '25.1', '2.80', '415', '30.8', '380744554', '17.74', '6956823603', '2'], ['2005', '1147609927', '1.67', '18206876', '-377797', '23.8', '3.14', '386', '29.1', '334479406', '17.54', '6541907027', '2'], ['1990', '873277798', '2.17', '17783558', '9030', '21.1', '4.27', '294', '25.5', '222296728', '16.39', '5327231061', '2'], ['1985', '784360008', '2.33', '17081433', '115942', '20.6', '4.68', '264', '24.3', '190321782', '16.10', '4870921740', '2'], ['1980', '698952844', '2.32', '15169989', '222247', '20.2', '4.97', '235', '23.0', '160941941', '15.68', '4458003514', '2'], ['1975', '623102897', '2.33', '13582621', '421208', '19.7', '5.41', '210', '21.3', '132533810', '15.27', '4079480606', '2'], ['1970', '555189792', '2.15', '11213294', '-68569', '19.3', '5.72', '187', '19.7', '109388950', '15.00', '3700437046', '2'], ['1965', '499123324', '2.07', '9715129', '-17078', '19.6', '5.89', '168', '18.7', '93493844', '14.95', '3339583597', '2'], ['1960', '450547679', '1.91', '8133417', '-30805', '20.2', '5.90', '152', '17.9', '80565723', '14.85', '3034949748', '2'], ['1955', '409880595', '1.72', '6711079', '-21140', '20.7', '5.90', '138', '17.6', '71958495', '14.78', '2773019936', '2']]\n"
          ],
          "name": "stdout"
        }
      ]
    },
    {
      "cell_type": "code",
      "metadata": {
        "colab": {
          "base_uri": "https://localhost:8080/"
        },
        "id": "47AMsUiokFT2",
        "outputId": "cd789100-5a50-4058-d2d8-afdd5aa5dad3"
      },
      "source": [
        "#Converting that string value list to float value lists.\n",
        "#merging small lists into one big list to make a dataframe.\n",
        "\n",
        "long_list = []\n",
        "\n",
        "for rec in string_list:\n",
        "    short_list = []\n",
        "\n",
        "    #in the following loop, if the string value contains \".\" it means its float, otherwise it's integer.\n",
        "    for val in rec:\n",
        "        if (val.find('.') > 0):\n",
        "            val = float(val)\n",
        "            short_list.append(val)\n",
        "        else:\n",
        "            val = int(val)\n",
        "            short_list.append(val)\n",
        "         #   print(short_list)\n",
        "    #Making a big list for DataFrame\n",
        "    long_list.append(short_list)\n",
        "    \n",
        "print(long_list[0])"
      ],
      "execution_count": null,
      "outputs": [
        {
          "output_type": "stream",
          "text": [
            "[2020, 1380004385, 0.99, 13586631, -532687, 28.4, 2.24, 464, 35.0, 483098640, 17.7, 7794798739, 2]\n"
          ],
          "name": "stdout"
        }
      ]
    },
    {
      "cell_type": "code",
      "metadata": {
        "id": "cclr3KtGkFT2",
        "outputId": "223c05c1-9359-4bb9-f82b-0fc25b3b80d6"
      },
      "source": [
        "# Making Data frame from scrapped data\n",
        "\n",
        "data_df = pd.DataFrame(long_list)\n",
        "\n",
        "#Adding column names for DataFrame\n",
        "data_df.columns = column_list\n",
        "\n",
        "\n",
        "\n",
        "# Setting year as index\n",
        "finalized_data = data_df.set_index('Year')\n",
        "\n",
        "\n",
        "#printing finalized country population\n",
        "print(finalized_data)\n",
        "\n",
        "\n",
        "finalized_data.to_excel(\"country_data.xlsx\")\n",
        "finalized_data.to_csv(\"country_data.csv\")"
      ],
      "execution_count": null,
      "outputs": [
        {
          "output_type": "stream",
          "text": [
            "      Population  Yearly %  Change  Yearly Change  Migrants (net)  Median Age  \\\n",
            "Year                                                                            \n",
            "2020    83783942              0.32         266897          543822        45.7   \n",
            "2019    83517045              0.47         392627          543822        45.9   \n",
            "2018    83124418              0.56         466009          543822        45.9   \n",
            "2017    82658409              0.57         464641          543822        45.9   \n",
            "2016    82193768              0.50         406357          543822        45.9   \n",
            "2015    81787411              0.24         192082          387715        45.9   \n",
            "2010    80827002             -0.19        -155148            8617        44.3   \n",
            "2005    81602741              0.05          40372          164889        42.1   \n",
            "1995    81138659              0.52         416935          525692        38.4   \n",
            "1990    79053984              0.35         272478          336747        37.6   \n",
            "1985    77691595             -0.15        -118301               5        37.2   \n",
            "1980    78283100             -0.15        -114588           45779        36.5   \n",
            "1975    78856039              0.07          55531          140346        35.4   \n",
            "1970    78578385              0.60         464071          174253        34.2   \n",
            "1965    76258032              0.76         568759          133863        34.3   \n",
            "1960    73414239              0.52         375356            7966        34.7   \n",
            "1955    71537459              0.45         314243           -8400        34.5   \n",
            "\n",
            "      Fertility Rate  Density (P/Km²)  Urban Pop %  Urban Population  \\\n",
            "Year                                                                   \n",
            "2020            1.59              240         76.3          63930305   \n",
            "2019            1.46              240         76.4          63787507   \n",
            "2018            1.46              238         76.5          63622346   \n",
            "2017            1.46              237         76.8          63442124   \n",
            "2016            1.46              236         77.0          63257479   \n",
            "2015            1.43              235         77.1          63078413   \n",
            "2010            1.36              232         77.0          62261612   \n",
            "2005            1.35              234         76.0          62053609   \n",
            "1995            1.30              233         74.0          60054511   \n",
            "1990            1.43              227         73.2          57849875   \n",
            "1985            1.46              223         72.7          56509433   \n",
            "1980            1.51              225         72.9          57036935   \n",
            "1975            1.71              226         72.6          57225423   \n",
            "1970            2.36              225         72.3          56788207   \n",
            "1965            2.47              219         72.0          54869782   \n",
            "1960            2.27              211         71.4          52406122   \n",
            "1955            2.13              205         69.7          49855283   \n",
            "\n",
            "      Country's Share of World Pop  World Population  GermanyGlobal Rank  \n",
            "Year                                                                      \n",
            "2020                          1.07        7794798739                  19  \n",
            "2019                          1.08        7713468100                  17  \n",
            "2018                          1.09        7631091040                  17  \n",
            "2017                          1.10        7547858925                  16  \n",
            "2016                          1.10        7464022049                  16  \n",
            "2015                          1.11        7379797139                  16  \n",
            "2010                          1.16        6956823603                  16  \n",
            "2005                          1.25        6541907027                  14  \n",
            "1995                          1.41        5744212979                  12  \n",
            "1990                          1.48        5327231061                  12  \n",
            "1985                          1.60        4870921740                  11  \n",
            "1980                          1.76        4458003514                   9  \n",
            "1975                          1.93        4079480606                   8  \n",
            "1970                          2.12        3700437046                   8  \n",
            "1965                          2.28        3339583597                   7  \n",
            "1960                          2.42        3034949748                   7  \n",
            "1955                          2.58        2773019936                   7  \n"
          ],
          "name": "stdout"
        }
      ]
    }
  ]
}