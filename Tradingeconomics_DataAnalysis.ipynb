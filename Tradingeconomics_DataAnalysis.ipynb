{
  "nbformat": 4,
  "nbformat_minor": 0,
  "metadata": {
    "colab": {
      "name": "Tradingeconomics DataAnalysis.ipynb",
      "provenance": [],
      "collapsed_sections": [],
      "authorship_tag": "ABX9TyMk9U7806zLYY7Afaz5KXir",
      "include_colab_link": true
    },
    "kernelspec": {
      "name": "python3",
      "display_name": "Python 3"
    }
  },
  "cells": [
    {
      "cell_type": "markdown",
      "metadata": {
        "id": "view-in-github",
        "colab_type": "text"
      },
      "source": [
        "<a href=\"https://colab.research.google.com/github/yashirmehmood/DataAnalysis/blob/main/Tradingeconomics_DataAnalysis.ipynb\" target=\"_parent\"><img src=\"https://colab.research.google.com/assets/colab-badge.svg\" alt=\"Open In Colab\"/></a>"
      ]
    },
    {
      "cell_type": "code",
      "metadata": {
        "colab": {
          "base_uri": "https://localhost:8080/"
        },
        "id": "kNzCkITb21Vl",
        "outputId": "175c8c4a-77c8-40d6-a28a-6f1cce9f9396"
      },
      "source": [
        "import pandas as pd\n",
        "from bs4 import BeautifulSoup\n",
        "import requests\n",
        "\n",
        "#============= Get all The countries =======================\n",
        "countr_list= \"https://tradingeconomics.com/countries\"\n",
        "contReq=requests.get(countr_list)\n",
        "contText=contReq.text\n",
        "contSoup=BeautifulSoup(contText,'html.parser')\n",
        "dat1=contSoup.findAll('div',class_='col-md-2 col-sm-4 col-xs-12')\n",
        "AllCountries_=[]\n",
        "for mylist in range(1,len(dat1)):\n",
        "  countdata=dat1[mylist].findAll('a')\n",
        "  for item in countdata:\n",
        "    mytxt=item.text\n",
        "    if(AllCountries_!=mytxt):\n",
        "      mytxt=mytxt.lower()\n",
        "      mytxt=mytxt.strip()\n",
        "      mytxt=mytxt.replace(' ','')\n",
        "      AllCountries_.append(mytxt)\n",
        "AllCountries_.sort(reverse=False)\n",
        "print(AllCountries_)"
      ],
      "execution_count": null,
      "outputs": [
        {
          "output_type": "stream",
          "text": [
            "['afghanistan', 'albania', 'algeria', 'andorra', 'angola', 'antiguaandbarbuda', 'argentina', 'armenia', 'aruba', 'australia', 'austria', 'azerbaijan', 'bahamas', 'bahrain', 'bangladesh', 'barbados', 'belarus', 'belgium', 'belize', 'benin', 'bermuda', 'bhutan', 'bolivia', 'bosniaandherzegovina', 'botswana', 'brazil', 'brunei', 'bulgaria', 'burkinafaso', 'burundi', 'cambodia', 'cameroon', 'canada', 'capeverde', 'caymanislands', 'centralafricanrepublic', 'chad', 'chile', 'china', 'colombia', 'comoros', 'congo', 'costarica', 'croatia', 'cuba', 'cyprus', 'czechrepublic', 'denmark', 'djibouti', 'dominica', 'dominicanrepublic', 'easttimor', 'ecuador', 'egypt', 'elsalvador', 'equatorialguinea', 'eritrea', 'estonia', 'ethiopia', 'euroarea', 'faroeislands', 'fiji', 'finland', 'france', 'gabon', 'gambia', 'georgia', 'germany', 'ghana', 'greece', 'grenada', 'guatemala', 'guinea', 'guineabissau', 'guyana', 'haiti', 'honduras', 'hongkong', 'hungary', 'iceland', 'india', 'indonesia', 'iran', 'iraq', 'ireland', 'isleofman', 'israel', 'italy', 'ivorycoast', 'jamaica', 'japan', 'jordan', 'kazakhstan', 'kenya', 'kiribati', 'kosovo', 'kuwait', 'kyrgyzstan', 'laos', 'latvia', 'lebanon', 'lesotho', 'liberia', 'libya', 'liechtenstein', 'lithuania', 'luxembourg', 'macao', 'macedonia', 'madagascar', 'malawi', 'malaysia', 'maldives', 'mali', 'malta', 'mauritania', 'mauritius', 'mexico', 'moldova', 'monaco', 'mongolia', 'montenegro', 'morocco', 'mozambique', 'myanmar', 'namibia', 'nepal', 'netherlands', 'newcaledonia', 'newzealand', 'nicaragua', 'niger', 'nigeria', 'northkorea', 'norway', 'oman', 'pakistan', 'palestine', 'panama', 'papuanewguinea', 'paraguay', 'peru', 'philippines', 'poland', 'portugal', 'puertorico', 'qatar', 'republicofthecongo', 'romania', 'russia', 'rwanda', 'samoa', 'saotomeandprincipe', 'saudiarabia', 'senegal', 'serbia', 'seychelles', 'sierraleone', 'singapore', 'slovakia', 'slovenia', 'solomonislands', 'somalia', 'southafrica', 'southkorea', 'southsudan', 'spain', 'srilanka', 'sudan', 'suriname', 'swaziland', 'sweden', 'switzerland', 'syria', 'taiwan', 'tajikistan', 'tanzania', 'thailand', 'togo', 'tonga', 'trinidadandtobago', 'tunisia', 'turkey', 'turkmenistan', 'uganda', 'ukraine', 'unitedarabemirates', 'unitedkingdom', 'unitedstates', 'uruguay', 'uzbekistan', 'vanuatu', 'venezuela', 'vietnam', 'yemen', 'zambia', 'zimbabwe']\n"
          ],
          "name": "stdout"
        }
      ]
    },
    {
      "cell_type": "code",
      "metadata": {
        "colab": {
          "base_uri": "https://localhost:8080/"
        },
        "id": "EosHsF9G3Eav",
        "outputId": "e35d3fd9-990d-4c88-e1bf-4274854964fd"
      },
      "source": [
        "#================== Compare Data of Countries ============\n",
        "inp=input('Enter The Name of Country:')\n",
        "inp=inp.lower()\n",
        "inp=inp.strip()\n",
        "inp=inp.replace(' ','')\n",
        "found_=False\n",
        "for val in AllCountries_:\n",
        "  if(val==inp):\n",
        "    found_=True\n",
        "    break\n",
        "if(found_==False):\n",
        "  print('The Given Country Name Is not in valid')"
      ],
      "execution_count": null,
      "outputs": [
        {
          "output_type": "stream",
          "text": [
            "Enter The Name of Country:india\n"
          ],
          "name": "stdout"
        }
      ]
    },
    {
      "cell_type": "code",
      "metadata": {
        "colab": {
          "base_uri": "https://localhost:8080/"
        },
        "id": "k6N-A9uLGqvw",
        "outputId": "408db4fc-f7c6-4557-fe9c-0d4db3cf572a"
      },
      "source": [
        "#============ Get Columns Names of Given Data ==================\n",
        "if(found_):\n",
        "  url1=\"https://tradingeconomics.com/\"\n",
        "  url2=\"/indicators\"\n",
        "  myurl=url1+inp+url2\n",
        "  req=requests.get(myurl)\n",
        "  urltxt= req.text\n",
        "  soup=BeautifulSoup(urltxt, 'html.parser')\n",
        "  table_data=soup.findAll('div',class_='table-responsive panel panel-default')\n",
        "  table1=table_data[0]\n",
        "  table2=table_data[1]\n",
        "  thead_table1=table1.thead\n",
        "  thead_table2=table2.thead\n",
        "  th_tb1_list=thead_table1.findAll('th')\n",
        "  th_tb2_list=thead_table2.findAll('th')\n",
        "  tags_list_tb1=[]\n",
        "  tags_list_tb2=[]\n",
        "  for i in th_tb1_list:\n",
        "    i=i.text\n",
        "    if(i!=''):\n",
        "      if('\\n' in i):\n",
        "        i=i.strip('\\n')\n",
        "        tags_list_tb1.append(i)\n",
        "      else:\n",
        "        tags_list_tb1.append(i)\n",
        "  for i in th_tb2_list:\n",
        "    i=i.text\n",
        "    if(i!=''):\n",
        "      if('\\n' in i):\n",
        "        i=i.strip('\\n')\n",
        "        tags_list_tb2.append(i)\n",
        "      else:\n",
        "        tags_list_tb2.append(i)\n",
        "\n",
        "print(tags_list_tb1)\n",
        "print(tags_list_tb2)"
      ],
      "execution_count": null,
      "outputs": [
        {
          "output_type": "stream",
          "text": [
            "['Markets', 'Last', 'Reference', 'Previous', 'Range', 'Frequency']\n",
            "['Overview', 'Last', 'Reference', 'Previous', 'Range', 'Frequency']\n"
          ],
          "name": "stdout"
        }
      ]
    },
    {
      "cell_type": "code",
      "metadata": {
        "colab": {
          "base_uri": "https://localhost:8080/"
        },
        "id": "ZAMTCP72ok-T",
        "outputId": "9ba7e641-d5a4-4bf9-8405-f18dd0653968"
      },
      "source": [
        "# ======================  Get the Data values from Given Data ===================\n",
        "import re\n",
        "tbody_table1=table1.tbody\n",
        "tbody_table2=table2.tbody\n",
        "table1_row=tbody_table1.find_all('tr')\n",
        "table2_row=tbody_table2.find_all('tr')\n",
        "tb1_data=[]\n",
        "tb2_data=[]\n",
        "for tbr in table1_row:\n",
        "  strin=tbr.text\n",
        "  strin=strin.strip()\n",
        "  strin=strin.replace(' ','')\n",
        "  strin=strin.replace('\\r','')\n",
        "  strin=re.sub(\"([\\(\\[].*?[\\)\\]])\", \"\", strin)\n",
        "  newstrlist = strin.split('\\n')\n",
        "  while(\"\" in newstrlist) : \n",
        "    newstrlist.remove(\"\")\n",
        "  tb1_data.append(newstrlist)\n",
        "for tbr in table2_row:\n",
        "  strin=tbr.text\n",
        "  strin=strin.strip()\n",
        "  strin=strin.replace(' ','')\n",
        "  strin=strin.replace('\\r','')\n",
        "  strin=re.sub(\"([\\(\\[].*?[\\)\\]])\", \"\", strin)\n",
        "  newstrlist = strin.split('\\n')\n",
        "  while(\"\" in newstrlist) : \n",
        "    newstrlist.remove(\"\")\n",
        "  tb2_data.append(newstrlist)\n",
        "\n",
        "print(tb1_data)\n",
        "print(tb2_data)"
      ],
      "execution_count": null,
      "outputs": [
        {
          "output_type": "stream",
          "text": [
            "[['Currency', '73.87', 'Nov/20', '73.93', '0.63:77.01', 'Daily'], ['StockMarket', '44150', 'Nov/20', '44260', '113:44825', 'Daily'], ['GovernmentBond10Y', '5.91', 'Nov/20', '5.87', '4.96:14.76', 'Daily']]\n",
            "[['GDPGrowthRate', '-25.2', 'Jun/20', '0.7', '-25.2:5.8', 'Quarterly'], ['GDPAnnualGrowthRate', '-7.5', 'Sep/20', '-23.9', '-23.9:11.4', 'Quarterly'], ['UnemploymentRate', '7', 'Oct/20', '6.7', '6.7:23.5', 'Monthly'], ['InflationRate', '7.61', 'Oct/20', '7.27', '1.54:12.17', 'Monthly'], ['InterestRate', '4', 'Oct/20', '4', '4:14.5', 'Daily'], ['CashReserveRatio', '3', 'Nov/20', '3', '3:10.5', 'Daily'], ['BalanceofTrade', '-8780', 'Oct/20', '-2720', '-20211:790', 'Monthly'], ['CurrentAccount', '19800', 'Jun/20', '584', '-31857:19800', 'Quarterly'], ['CurrentAccounttoGDP', '-0.9', 'Dec/19', '-2.1', '-4.8:2.3', 'Yearly'], ['GovernmentDebttoGDP', '69.62', 'Dec/19', '68.3', '47.94:83.23', 'Yearly'], ['GovernmentBudget', '-4.59', 'Dec/19', '-3.34', '-8.13:-2.53', 'Yearly'], ['BusinessConfidence', '99.5', 'Sep/20', '109', '96.4:128', 'Quarterly'], ['ManufacturingPMI', '58.9', 'Oct/20', '56.8', '27.4:58.9', 'Monthly'], ['ServicesPMI', '54.1', 'Oct/20', '49.8', '5.4:57.5', 'Monthly'], ['ConsumerConfidence', '63.7', 'Jun/20', '85.6', '63.7:117', 'Quarterly'], ['CorporateTaxRate', '25.17', 'Dec/20', '25.17', '25.17:38.95', 'Yearly'], ['PersonalIncomeTaxRate', '35.88', 'Dec/20', '35.88', '30:35.88', 'Yearly'], ['CoronavirusCases', '9431691', 'Nov/20', '9392919', '0:9431691', 'Daily'], ['CoronavirusDeaths', '137139', 'Nov/20', '136696', '0:137139', 'Daily'], ['CoronavirusRecovered', '8718517', 'Nov/20', '8679138', '4:8718517', 'Daily'], ['HospitalBeds', '0.53', 'Dec/17', '0.48', '0.41:0.72', 'Yearly']]\n"
          ],
          "name": "stdout"
        }
      ]
    },
    {
      "cell_type": "code",
      "metadata": {
        "id": "MZn0u9Uy14gU"
      },
      "source": [
        "# ============================= Making Data Frames and Storing it =======================================\n",
        "dataFrame1=pd.DataFrame(tb1_data)\n",
        "dataFrame1.columns=tags_list_tb1\n",
        "dataFrame2=pd.DataFrame(tb2_data)\n",
        "dataFrame2.columns=tags_list_tb2\n",
        "#print(dataFrame1)\n",
        "#print(dataFrame2)\n",
        "dataFrame1.to_csv(\"Markets.csv\")\n",
        "dataFrame2.to_csv(\"Overview.csv\")"
      ],
      "execution_count": null,
      "outputs": []
    }
  ]
}